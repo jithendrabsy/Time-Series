{
 "cells": [
  {
   "cell_type": "code",
   "execution_count": 1,
   "metadata": {},
   "outputs": [],
   "source": [
    "import numpy as np\n",
    "import pandas as pd\n",
    "import matplotlib.pyplot as plt\n",
    "from datetime import datetime\n",
    "from sklearn.metrics import mean_squared_error\n",
    "from pandas.plotting import autocorrelation_plot\n",
    "from statsmodels.tsa.arima_model import ARIMA\n",
    "from statsmodels.graphics.tsaplots import plot_acf, plot_pacf\n",
    "import warnings\n",
    "warnings.filterwarnings(\"ignore\") "
   ]
  },
  {
   "cell_type": "code",
   "execution_count": 2,
   "metadata": {},
   "outputs": [
    {
     "name": "stdout",
     "output_type": "stream",
     "text": [
      "Expected: 50.000\n",
      "Forecast: 45.878\n",
      "Standard Error: 6.996\n",
      "95% confidence interval: 32.167 to 59.590\n"
     ]
    }
   ],
   "source": [
    "# summarixe confidence interval on ARIMA forecast\n",
    "df = pd.read_csv('data/daily-total-female-births.csv', header=0, index_col=0, parse_dates=True, squeeze=True)\n",
    "\n",
    "X = df.values\n",
    "X = X.astype('float32')\n",
    "size = len(X)-1\n",
    "train, test = X[0:size], X[size:]\n",
    "\n",
    "model = ARIMA(train, order=(5,1,1))\n",
    "model_fit = model.fit(disp=False)\n",
    "\n",
    "forecast, stderr, conf = model_fit.forecast()\n",
    "\n",
    "print('Expected: %.3f' % test[0])\n",
    "print('Forecast: %.3f' % forecast)\n",
    "print('Standard Error: %.3f' % stderr)\n",
    "print('95%% confidence interval: %.3f to %.3f' %(conf[0][0], conf[0][1]))"
   ]
  },
  {
   "cell_type": "code",
   "execution_count": 3,
   "metadata": {},
   "outputs": [
    {
     "name": "stdout",
     "output_type": "stream",
     "text": [
      "80.0% confidence interval: 45.878 between 36.913 and 54.844\n",
      "90.0% confidence interval: 45.878 between 34.371 and 57.386\n",
      "95.0% confidence interval: 45.878 between 32.167 and 59.590\n",
      "99.0% confidence interval: 45.878 between 27.858 and 63.898\n"
     ]
    }
   ],
   "source": [
    "# summarize multiple confidence intervals on ARIMA forecast\n",
    "\n",
    "df = pd.read_csv('data/daily-total-female-births.csv', header=0, index_col=0, parse_dates=True, squeeze=True)\n",
    "\n",
    "X = df.values\n",
    "X = X.astype('float32')\n",
    "size = len(X)-1\n",
    "train, test = X[0:size], X[size:]\n",
    "\n",
    "model = ARIMA(train, order=(5,1,1))\n",
    "model_fit = model.fit(disp=False)\n",
    "\n",
    "intervals = [0.2, 0.1, 0.05, 0.01]\n",
    "\n",
    "for a in intervals:\n",
    "    forecast, stderr, conf = model_fit.forecast(alpha=a)\n",
    "    print('%.1f%% confidence interval: %.3f between %.3f and %.3f' %((1-a)*100, forecast, conf[0][0], conf[0][1]))"
   ]
  },
  {
   "cell_type": "code",
   "execution_count": 4,
   "metadata": {},
   "outputs": [
    {
     "data": {
      "image/png": "[encoded data removed]",
      "text/plain": [
       "<Figure size 432x288 with 1 Axes>"
      ]
     },
     "metadata": {
      "needs_background": "light"
     },
     "output_type": "display_data"
    }
   ],
   "source": [
    "# plotting confidence interval\n",
    "\n",
    "model_fit.plot_predict(len(train)-10, len(train)+1)\n",
    "plt.legend(loc='upper left')\n",
    "plt.show()"
   ]
  },
  {
   "cell_type": "code",
   "execution_count": null,
   "metadata": {},
   "outputs": [],
   "source": []
  }
 ],
 "metadata": {
  "kernelspec": {
   "display_name": "Python 3",
   "language": "python",
   "name": "python3"
  },
  "language_info": {
   "codemirror_mode": {
    "name": "ipython",
    "version": 3
   },
   "file_extension": ".py",
   "mimetype": "text/x-python",
   "name": "python",
   "nbconvert_exporter": "python",
   "pygments_lexer": "ipython3",
   "version": "3.8.5"
  }
 },
 "nbformat": 4,
 "nbformat_minor": 4
}
