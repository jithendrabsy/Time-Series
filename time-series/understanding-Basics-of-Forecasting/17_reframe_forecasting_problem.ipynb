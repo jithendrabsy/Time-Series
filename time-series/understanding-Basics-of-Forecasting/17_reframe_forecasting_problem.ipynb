{
 "cells": [
  {
   "cell_type": "markdown",
   "metadata": {},
   "source": [
    "Reframing the problem: idea of exploring alternative perspectives on what is to be predicted.\n",
    "\n",
    "2 benefits: \n",
    "- simplify the problem\n",
    "- provide the basis for an ensemble forecast"
   ]
  },
  {
   "cell_type": "markdown",
   "metadata": {},
   "source": [
    "__1. Naive Time series forecast!__\n",
    "- predict problem as-is.\n",
    "- make the series stationary and model based on some function of the lagged observations\n",
    "\n",
    "`T(t+1) = B0 + B1*T(t) + B2*T(t-1)...Bn+1*T(t-(n)` "
   ]
  },
  {
   "cell_type": "markdown",
   "metadata": {},
   "source": [
    "__2. Regression Framings__"
   ]
  },
  {
   "cell_type": "code",
   "execution_count": 1,
   "metadata": {},
   "outputs": [
    {
     "name": "stdout",
     "output_type": "stream",
     "text": [
      "      t   t+1\n",
      "0   NaN  20.0\n",
      "1  20.7  15.0\n",
      "2  17.9  15.0\n",
      "3  18.8  10.0\n",
      "4  14.6  15.0\n"
     ]
    }
   ],
   "source": [
    "import pandas as pd\n",
    "df = pd.read_csv(\"data/daily-min-temperatures.csv\", header=0, index_col=0, parse_dates=True, squeeze=True)\n",
    "values = pd.DataFrame(df.values)\n",
    "dataframe = pd.concat([values.shift(1), values], axis=1)\n",
    "dataframe.columns = ['t', 't+1']\n",
    "# round forecast to nearest 5\n",
    "for i in range(len(dataframe['t+1'])):\n",
    "    dataframe['t+1'][i] = int(dataframe['t+1'][i]/5) * 5.0\n",
    "print(dataframe.head())"
   ]
  },
  {
   "cell_type": "markdown",
   "metadata": {},
   "source": [
    "__3. Classification framings__"
   ]
  },
  {
   "cell_type": "code",
   "execution_count": 2,
   "metadata": {},
   "outputs": [
    {
     "name": "stdout",
     "output_type": "stream",
     "text": [
      "      t  t+1\n",
      "0   NaN  1.0\n",
      "1  20.7  1.0\n",
      "2  17.9  1.0\n",
      "3  18.8  1.0\n",
      "4  14.6  1.0\n"
     ]
    }
   ],
   "source": [
    "values = pd.DataFrame(df.values)\n",
    "dataframe = pd.concat([values.shift(1), values], axis=1)\n",
    "dataframe.columns = ['t', 't+1']\n",
    "# make discrete\n",
    "for i in range(len(dataframe['t+1'])):\n",
    "    value = dataframe['t+1'][i]\n",
    "    if value < 10.0:\n",
    "        dataframe['t+1'][i] = 0\n",
    "    elif value >= 25.0:\n",
    "        dataframe['t+1'][i] = 2\n",
    "    else:\n",
    "        dataframe['t+1'][i] = 1\n",
    "\n",
    "print(dataframe.head())"
   ]
  },
  {
   "cell_type": "markdown",
   "metadata": {},
   "source": [
    "__4. Time horizon framings__"
   ]
  },
  {
   "cell_type": "code",
   "execution_count": 3,
   "metadata": {},
   "outputs": [
    {
     "name": "stdout",
     "output_type": "stream",
     "text": [
      "      t   t+1   t+2   t+3   t+4   t+5   t+6   t+7\n",
      "0   NaN  20.7  17.9  18.8  14.6  15.8  15.8  15.8\n",
      "1  20.7  17.9  18.8  14.6  15.8  15.8  15.8  17.4\n",
      "2  17.9  18.8  14.6  15.8  15.8  15.8  17.4  21.8\n",
      "3  18.8  14.6  15.8  15.8  15.8  17.4  21.8  20.0\n",
      "4  14.6  15.8  15.8  15.8  17.4  21.8  20.0  16.2\n",
      "5  15.8  15.8  15.8  17.4  21.8  20.0  16.2  13.3\n",
      "6  15.8  15.8  17.4  21.8  20.0  16.2  13.3  16.7\n",
      "7  15.8  17.4  21.8  20.0  16.2  13.3  16.7  21.5\n",
      "8  17.4  21.8  20.0  16.2  13.3  16.7  21.5  25.0\n",
      "9  21.8  20.0  16.2  13.3  16.7  21.5  25.0  20.7\n"
     ]
    }
   ],
   "source": [
    "values = pd.DataFrame(df.values)\n",
    "dataframe = pd.concat([values.shift(1), values, values.shift(-1), \n",
    "                       values.shift(-2), values.shift(-3), values.shift(-4),\n",
    "                      values.shift(-5), values.shift(-6)], axis=1)\n",
    "\n",
    "dataframe.columns = ['t', 't+1', 't+2', 't+3', 't+4', 't+5', 't+6', 't+7']\n",
    "print(dataframe.head(10))"
   ]
  },
  {
   "cell_type": "code",
   "execution_count": null,
   "metadata": {},
   "outputs": [],
   "source": []
  }
 ],
 "metadata": {
  "kernelspec": {
   "display_name": "Python 3",
   "language": "python",
   "name": "python3"
  },
  "language_info": {
   "codemirror_mode": {
    "name": "ipython",
    "version": 3
   },
   "file_extension": ".py",
   "mimetype": "text/x-python",
   "name": "python",
   "nbconvert_exporter": "python",
   "pygments_lexer": "ipython3",
   "version": "3.8.5"
  }
 },
 "nbformat": 4,
 "nbformat_minor": 4
}
