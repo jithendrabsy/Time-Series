{
 "cells": [
  {
   "cell_type": "code",
   "execution_count": 1,
   "metadata": {},
   "outputs": [],
   "source": [
    "import numpy as np\n",
    "import pandas as pd\n",
    "import matplotlib.pyplot as plt\n",
    "from datetime import datetime\n",
    "from sklearn.metrics import mean_squared_error\n",
    "from pandas.plotting import autocorrelation_plot\n",
    "from statsmodels.tsa.arima_model import ARIMA\n",
    "from statsmodels.graphics.tsaplots import plot_acf, plot_pacf\n",
    "import warnings\n",
    "warnings.filterwarnings(\"ignore\") "
   ]
  },
  {
   "cell_type": "code",
   "execution_count": 3,
   "metadata": {},
   "outputs": [],
   "source": [
    "# evaluate ARIMA model\n",
    "def evaluate_arima(X, arima_order):\n",
    "    # prepare training dataset\n",
    "    train_size = int(len(X) * 0.66)\n",
    "    train, test = X[0:train_size], X[train_size:]\n",
    "    history = [x for x in train]\n",
    "    # make predictions\n",
    "    predictions = list()\n",
    "    for t in range(len(test)):\n",
    "        model = ARIMA(history, order=arima_order)\n",
    "        model_fit = model.fit(disp=0)\n",
    "        yhat = model_fit.forecast()[0]\n",
    "        predictions.append(yhat)\n",
    "        history.append(test[t])\n",
    "    rmse = np.sqrt(mean_squared_error(test, predictions))\n",
    "    return rmse"
   ]
  },
  {
   "cell_type": "code",
   "execution_count": 5,
   "metadata": {},
   "outputs": [],
   "source": [
    "# iterate ARIMA parameters\n",
    "def evaluate_models(dataset, p_values, d_values, q_values):\n",
    "    dataset = dataset.astype('float32')\n",
    "    best_score, best_cfg = float(\"inf\"), None\n",
    "    \n",
    "    for p in p_values:\n",
    "        for d in d_values:\n",
    "            for q in q_values:\n",
    "                order = (p,d,q)\n",
    "                try:\n",
    "                    rmse = evaluate_arima(dataset, order)\n",
    "                    if rmse < best_score:\n",
    "                        best_score, best_cfg = rmse, order\n",
    "                    print('ARIMA%s RMSE=%.3f' %(order, rmse))\n",
    "                except:\n",
    "                    continue\n",
    "    print('Best ARIMA%s RMSE=%.3f' %(best_cfg, best_score))"
   ]
  },
  {
   "cell_type": "code",
   "execution_count": 7,
   "metadata": {},
   "outputs": [
    {
     "name": "stdout",
     "output_type": "stream",
     "text": [
      "ARIMA(0, 0, 0) RMSE=228.966\n",
      "ARIMA(0, 0, 1) RMSE=195.308\n",
      "ARIMA(0, 0, 2) RMSE=154.886\n",
      "ARIMA(0, 1, 0) RMSE=134.176\n",
      "ARIMA(0, 1, 1) RMSE=97.766\n",
      "ARIMA(0, 1, 2) RMSE=79.416\n",
      "ARIMA(0, 2, 0) RMSE=259.499\n",
      "ARIMA(0, 2, 1) RMSE=135.362\n",
      "ARIMA(1, 0, 0) RMSE=152.030\n",
      "ARIMA(1, 0, 2) RMSE=85.392\n",
      "ARIMA(1, 1, 0) RMSE=84.388\n",
      "ARIMA(1, 1, 1) RMSE=83.688\n",
      "ARIMA(1, 2, 0) RMSE=136.411\n",
      "ARIMA(2, 0, 0) RMSE=100.879\n",
      "ARIMA(2, 1, 0) RMSE=75.432\n",
      "ARIMA(2, 1, 1) RMSE=88.089\n",
      "ARIMA(2, 2, 0) RMSE=99.302\n",
      "ARIMA(4, 0, 0) RMSE=102.501\n",
      "ARIMA(4, 1, 0) RMSE=81.545\n",
      "ARIMA(4, 1, 1) RMSE=82.440\n",
      "ARIMA(4, 2, 0) RMSE=87.157\n",
      "ARIMA(4, 2, 1) RMSE=68.519\n",
      "ARIMA(6, 0, 0) RMSE=91.283\n",
      "ARIMA(6, 1, 0) RMSE=82.523\n",
      "ARIMA(6, 1, 1) RMSE=66.183\n",
      "ARIMA(6, 2, 0) RMSE=79.127\n",
      "ARIMA(8, 1, 0) RMSE=81.115\n",
      "ARIMA(10, 1, 0) RMSE=86.795\n",
      "Best ARIMA(6, 1, 1) RMSE=66.183\n"
     ]
    }
   ],
   "source": [
    "# shampoo sales\n",
    "def parser(X):\n",
    "    return datetime.strptime('190'+X, '%Y-%m')\n",
    "\n",
    "df = pd.read_csv('data/monthly-shampoo-sales.csv', header=0, index_col=0, parse_dates=True, squeeze=True, date_parser=parser)\n",
    "\n",
    "p_values = [0,1,2,4,6,8,10]\n",
    "d_values = range(0,3)\n",
    "q_values = range(0,3)\n",
    "evaluate_models(df, p_values, d_values, q_values)"
   ]
  },
  {
   "cell_type": "code",
   "execution_count": 9,
   "metadata": {},
   "outputs": [
    {
     "name": "stdout",
     "output_type": "stream",
     "text": [
      "ARIMA(0, 0, 0) RMSE=8.189\n",
      "ARIMA(0, 0, 1) RMSE=7.884\n",
      "ARIMA(0, 0, 2) RMSE=7.771\n",
      "ARIMA(0, 1, 0) RMSE=9.167\n",
      "ARIMA(0, 1, 1) RMSE=7.527\n",
      "ARIMA(0, 1, 2) RMSE=7.434\n",
      "ARIMA(0, 2, 0) RMSE=15.698\n",
      "ARIMA(0, 2, 1) RMSE=9.201\n",
      "ARIMA(0, 2, 2) RMSE=7.543\n",
      "ARIMA(1, 0, 0) RMSE=7.802\n",
      "ARIMA(1, 0, 1) RMSE=7.554\n",
      "ARIMA(1, 1, 0) RMSE=8.120\n",
      "ARIMA(1, 1, 1) RMSE=7.425\n",
      "ARIMA(1, 1, 2) RMSE=7.429\n",
      "ARIMA(1, 2, 0) RMSE=11.990\n",
      "ARIMA(2, 0, 0) RMSE=7.697\n",
      "ARIMA(2, 0, 1) RMSE=7.421\n",
      "ARIMA(2, 0, 2) RMSE=7.484\n",
      "ARIMA(2, 1, 0) RMSE=7.713\n",
      "ARIMA(2, 1, 1) RMSE=7.417\n",
      "ARIMA(2, 1, 2) RMSE=7.433\n",
      "ARIMA(2, 2, 0) RMSE=10.373\n",
      "ARIMA(4, 0, 0) RMSE=7.693\n",
      "ARIMA(4, 0, 1) RMSE=7.825\n",
      "ARIMA(4, 0, 2) RMSE=7.462\n",
      "ARIMA(4, 1, 0) RMSE=7.578\n",
      "ARIMA(4, 1, 1) RMSE=7.474\n",
      "ARIMA(4, 1, 2) RMSE=7.455\n",
      "ARIMA(4, 2, 0) RMSE=8.956\n",
      "ARIMA(6, 0, 0) RMSE=7.666\n",
      "ARIMA(6, 0, 1) RMSE=7.711\n",
      "ARIMA(6, 1, 0) RMSE=7.293\n",
      "ARIMA(6, 1, 1) RMSE=7.569\n",
      "ARIMA(6, 1, 2) RMSE=7.469\n",
      "ARIMA(6, 2, 0) RMSE=8.352\n",
      "ARIMA(8, 0, 0) RMSE=7.549\n",
      "ARIMA(8, 0, 1) RMSE=7.565\n",
      "ARIMA(8, 0, 2) RMSE=7.625\n",
      "ARIMA(8, 1, 0) RMSE=7.569\n",
      "ARIMA(8, 1, 1) RMSE=7.430\n",
      "ARIMA(8, 1, 2) RMSE=7.435\n",
      "ARIMA(8, 2, 0) RMSE=8.126\n",
      "ARIMA(8, 2, 1) RMSE=7.602\n",
      "ARIMA(8, 2, 2) RMSE=7.504\n",
      "ARIMA(10, 0, 0) RMSE=7.581\n",
      "ARIMA(10, 0, 1) RMSE=7.569\n",
      "ARIMA(10, 0, 2) RMSE=7.584\n",
      "ARIMA(10, 1, 0) RMSE=7.574\n",
      "ARIMA(10, 1, 1) RMSE=7.441\n",
      "ARIMA(10, 1, 2) RMSE=7.448\n",
      "ARIMA(10, 2, 0) RMSE=8.093\n",
      "ARIMA(10, 2, 1) RMSE=7.608\n",
      "ARIMA(10, 2, 2) RMSE=7.617\n",
      "Best ARIMA(6, 1, 0) RMSE=7.293\n"
     ]
    }
   ],
   "source": [
    "df = pd.read_csv('data/daily-total-female-births.csv', header=0, index_col=0, parse_dates=True, squeeze=True)\n",
    "\n",
    "p_values = [0,1,2,4,6,8,10]\n",
    "d_values = range(0,3)\n",
    "q_values = range(0,3)\n",
    "evaluate_models(df, p_values, d_values, q_values)"
   ]
  },
  {
   "cell_type": "markdown",
   "metadata": {},
   "source": [
    "Extensions to grid search:\n",
    "- Seed grid: The classical diagnostic tools of ACF and PACF plots can still be used with the results used to seed the grid of ARIMA parameters to search\n",
    "\n",
    "\n",
    "- other measures: AIC/ BIC/ combination of both? etc...\n",
    "\n",
    "\n",
    "- Residual diagnostics: Statistics can automatically be calculated on the residual forecast errors to provide an additional indication of the quality of the fit. Examples include statistical tests for whether the distribution of residuals is Gaussian and whether there is an autocorrelation in the residuals\n",
    "\n",
    "\n",
    "- Update Model: The ARIMA model is created from scratch for each one-step forecast. With careful inspection of the API, it may be possible to update the internal data of the model with new observations rather than recreating it from scratch\n",
    "\n",
    "\n",
    "- Preconditions. The ARIMA model can make assumptions about the time series dataset, such as normality and stationarity. These could be checked and a warning raised for a given of a dataset prior to a given model being trained"
   ]
  },
  {
   "cell_type": "code",
   "execution_count": null,
   "metadata": {},
   "outputs": [],
   "source": []
  }
 ],
 "metadata": {
  "kernelspec": {
   "display_name": "Python 3",
   "language": "python",
   "name": "python3"
  },
  "language_info": {
   "codemirror_mode": {
    "name": "ipython",
    "version": 3
   },
   "file_extension": ".py",
   "mimetype": "text/x-python",
   "name": "python",
   "nbconvert_exporter": "python",
   "pygments_lexer": "ipython3",
   "version": "3.8.5"
  }
 },
 "nbformat": 4,
 "nbformat_minor": 4
}
