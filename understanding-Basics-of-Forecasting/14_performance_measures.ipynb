{
 "cells": [
  {
   "cell_type": "markdown",
   "metadata": {},
   "source": [
    "#### Forecast Error (Redisual Forecast error)\n",
    "\n",
    "- forecast error = expected value − predicted value"
   ]
  },
  {
   "cell_type": "code",
   "execution_count": 1,
   "metadata": {},
   "outputs": [],
   "source": [
    "expected = [0.0, 0.7, 0.3, 0.0, 0.5]\n",
    "predictions = [0.2, 0.6, 0.5, 0.1, 0.4]\n",
    "forecast_errors = [expected[i]-predictions[i] for i in range(len(expected))]\n",
    "print('forecast erroes: %s' %forecast_errors)"
   ]
  },
  {
   "cell_type": "markdown",
   "metadata": {},
   "source": [
    "#### Mean Forecast Error (Forecast Bias)\n",
    "- mean forecast error = mean(forecast error)"
   ]
  },
  {
   "cell_type": "code",
   "execution_count": 2,
   "metadata": {},
   "outputs": [
    {
     "name": "stdout",
     "output_type": "stream",
     "text": [
      "Bias: -0.060000\n"
     ]
    }
   ],
   "source": [
    "expected = [0.0, 0.7, 0.3, 0.0, 0.5]\n",
    "predictions = [0.2, 0.6, 0.5, 0.1, 0.4]\n",
    "forecast_errors = [expected[i]-predictions[i] for i in range(len(expected))]\n",
    "bias = sum(forecast_errors) * 1.0/len(forecast_errors)\n",
    "print('Bias: %f' %bias)"
   ]
  },
  {
   "cell_type": "markdown",
   "metadata": {},
   "source": [
    "#### Mean Absolute error(MAE)\n",
    "- mae = mean(abs(forecast_error))"
   ]
  },
  {
   "cell_type": "code",
   "execution_count": 3,
   "metadata": {},
   "outputs": [
    {
     "name": "stdout",
     "output_type": "stream",
     "text": [
      "MAE: 0.140000\n"
     ]
    }
   ],
   "source": [
    "from sklearn.metrics import mean_absolute_error\n",
    "expected = [0.0, 0.7, 0.3, 0.0, 0.5]\n",
    "predictions = [0.2, 0.6, 0.5, 0.1, 0.4]\n",
    "mae = mean_absolute_error(expected, predictions)\n",
    "print('MAE: %f' %mae)"
   ]
  },
  {
   "cell_type": "markdown",
   "metadata": {},
   "source": [
    "#### Mean Squared error\n",
    "- mean_squared_error = mean(forecast_error^2)"
   ]
  },
  {
   "cell_type": "code",
   "execution_count": 4,
   "metadata": {},
   "outputs": [
    {
     "name": "stdout",
     "output_type": "stream",
     "text": [
      "MSE: 0.022000\n"
     ]
    }
   ],
   "source": [
    "from sklearn.metrics import mean_squared_error\n",
    "expected = [0.0, 0.7, 0.3, 0.0, 0.5]\n",
    "predictions = [0.2, 0.6, 0.5, 0.1, 0.4]\n",
    "mse = mean_squared_error(expected, predictions)\n",
    "print('MSE: %f' %mse)"
   ]
  },
  {
   "cell_type": "markdown",
   "metadata": {},
   "source": [
    "#### Mean squared error\n",
    "- rmse = sqrt(mean(forecast_error^2))"
   ]
  },
  {
   "cell_type": "code",
   "execution_count": 5,
   "metadata": {},
   "outputs": [
    {
     "name": "stdout",
     "output_type": "stream",
     "text": [
      "RMSE: 0.148324\n"
     ]
    }
   ],
   "source": [
    "import numpy as np\n",
    "from sklearn.metrics import mean_squared_error\n",
    "expected = [0.0, 0.7, 0.3, 0.0, 0.5]\n",
    "predictions = [0.2, 0.6, 0.5, 0.1, 0.4]\n",
    "mse = mean_squared_error(expected, predictions)\n",
    "rmse = np.sqrt(mse)\n",
    "print('RMSE: %f' %rmse)"
   ]
  },
  {
   "cell_type": "code",
   "execution_count": null,
   "metadata": {},
   "outputs": [],
   "source": []
  }
 ],
 "metadata": {
  "kernelspec": {
   "display_name": "Python 3",
   "language": "python",
   "name": "python3"
  },
  "language_info": {
   "codemirror_mode": {
    "name": "ipython",
    "version": 3
   },
   "file_extension": ".py",
   "mimetype": "text/x-python",
   "name": "python",
   "nbconvert_exporter": "python",
   "pygments_lexer": "ipython3",
   "version": "3.8.5"
  }
 },
 "nbformat": 4,
 "nbformat_minor": 4
}
